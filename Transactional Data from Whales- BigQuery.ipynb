{
 "cells": [
  {
   "cell_type": "markdown",
   "metadata": {},
   "source": [
    "# Transactional Data from Whales- BigQuery"
   ]
  },
  {
   "cell_type": "code",
   "execution_count": null,
   "metadata": {},
   "outputs": [],
   "source": [
    "# Import Libraries\n",
    "from google.cloud import bigquery\n",
    "import pandas as pd\n",
    "import matplotlib.pyplot as plt\n",
    "import seaborn as sns\n",
    "import os\n",
    "from google.cloud import bigquery"
   ]
  },
  {
   "cell_type": "code",
   "execution_count": null,
   "metadata": {},
   "outputs": [],
   "source": [
    "# Define Google Cloud Credential.\n",
    "# PLEASE BE AWARE THAT CREDENTIALS VARY DEPENDING ON EACH ACCOUNT.\n",
    "os.environ[\"GOOGLE_APPLICATION_CREDENTIALS\"]=\"C:/Users/JCRG/Desktop/Master/Dissertation/Code/Google Cloud/dissertation-352916-492433041777.json\"\n",
    "# Call Big Query API\n",
    "bqclient = bigquery.Client()"
   ]
  },
  {
   "cell_type": "code",
   "execution_count": null,
   "metadata": {},
   "outputs": [],
   "source": [
    "# Execute Query to get top balances in Ethereum\n",
    "# Please be aware that temp table 'A' is created using the top 10,000 balances in Ethereum.\n",
    "# Table temp 'A' needs to be uploaded to Google Cloud BigQuery in the account whose credentials were used before.\n",
    "# The code can be found in the file 'Etherscan- Name Tags Known Addresses.ipynb'\n",
    "query_string = \"\"\"\n",
    "WITH\n",
    "A AS (SELECT * FROM `dissertation-352916.Data.top_100_address` LIMIT 10000),\n",
    "\n",
    "\n",
    "B AS (SELECT * FROM A\n",
    "JOIN `bigquery-public-data.crypto_ethereum.transactions` AS t ON (A.Address=t.from_address)\n",
    "WHERE t.block_timestamp< '2022-06-30 00:00:00')\n",
    "\n",
    "SELECT B.*,value*power(10, -18) AS value_ether FROM B\n",
    "\"\"\"\n",
    "\n",
    "dataframe = (\n",
    "    bqclient.query(query_string)\n",
    "    .result()\n",
    "    .to_dataframe(\n",
    "        create_bqstorage_client=True,\n",
    "    )\n",
    ")"
   ]
  },
  {
   "cell_type": "code",
   "execution_count": null,
   "metadata": {},
   "outputs": [],
   "source": [
    "# Export to dataframe\n",
    "dataframe=pd.DataFrame(dataframe)\n",
    "# Export to csv\n",
    "dataframe.to_csv('Etherscan_Top10000_Addresses')"
   ]
  },
  {
   "cell_type": "code",
   "execution_count": null,
   "metadata": {},
   "outputs": [],
   "source": []
  }
 ],
 "metadata": {
  "kernelspec": {
   "display_name": "Python 3.9.2",
   "language": "python",
   "name": "python3"
  },
  "language_info": {
   "codemirror_mode": {
    "name": "ipython",
    "version": 3
   },
   "file_extension": ".py",
   "mimetype": "text/x-python",
   "name": "python",
   "nbconvert_exporter": "python",
   "pygments_lexer": "ipython3",
   "version": "3.9.2"
  },
  "orig_nbformat": 4,
  "vscode": {
   "interpreter": {
    "hash": "25ee92a31d68368ca42246886434fcbb9e7213bd1bda7fd865dcfe6c3fbc7f9f"
   }
  }
 },
 "nbformat": 4,
 "nbformat_minor": 2
}
