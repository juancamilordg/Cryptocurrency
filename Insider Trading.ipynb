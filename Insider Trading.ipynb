{
 "cells": [
  {
   "cell_type": "markdown",
   "metadata": {},
   "source": [
    "# Cryptocurrency Analytics"
   ]
  },
  {
   "cell_type": "markdown",
   "metadata": {},
   "source": [
    "## Import Libraries"
   ]
  },
  {
   "cell_type": "code",
   "execution_count": 1,
   "metadata": {},
   "outputs": [],
   "source": [
    "# Import Libraries\n",
    "import pandas as pd\n",
    "import numpy as np\n",
    "import matplotlib.pyplot as plt\n",
    "import seaborn as sns\n",
    "import os\n",
    "import networkx as nx\n",
    "from pyvis import network as net\n",
    "from urllib.request import Request, urlopen\n",
    "from bs4 import BeautifulSoup as soup\n",
    "import time\n",
    "from IPython.display import display\n",
    "from datetime import datetime, timedelta\n",
    "import warnings\n",
    "warnings.filterwarnings(\"ignore\")\n"
   ]
  },
  {
   "cell_type": "markdown",
   "metadata": {},
   "source": [
    "## Graph Network"
   ]
  },
  {
   "cell_type": "markdown",
   "metadata": {},
   "source": [
    "### Prepare Data"
   ]
  },
  {
   "cell_type": "code",
   "execution_count": 2,
   "metadata": {},
   "outputs": [
    {
     "data": {
      "text/html": [
       "<div>\n",
       "<style scoped>\n",
       "    .dataframe tbody tr th:only-of-type {\n",
       "        vertical-align: middle;\n",
       "    }\n",
       "\n",
       "    .dataframe tbody tr th {\n",
       "        vertical-align: top;\n",
       "    }\n",
       "\n",
       "    .dataframe thead th {\n",
       "        text-align: right;\n",
       "    }\n",
       "</style>\n",
       "<table border=\"1\" class=\"dataframe\">\n",
       "  <thead>\n",
       "    <tr style=\"text-align: right;\">\n",
       "      <th></th>\n",
       "      <th>from_address</th>\n",
       "      <th>to_address</th>\n",
       "      <th>block_timestamp</th>\n",
       "      <th>value_ether</th>\n",
       "    </tr>\n",
       "  </thead>\n",
       "  <tbody>\n",
       "    <tr>\n",
       "      <th>0</th>\n",
       "      <td>0x7ac34681f6aaeb691e150c43ee494177c0e2c183</td>\n",
       "      <td>0x7fb6fefe6c524d9cb06025583c0ad59aad2f6f5b</td>\n",
       "      <td>2018-07-11 11:57:20 UTC</td>\n",
       "      <td>1.00000</td>\n",
       "    </tr>\n",
       "    <tr>\n",
       "      <th>1</th>\n",
       "      <td>0xf1cf296c11d3b010e6dd3d48b6c5aaed613e96f1</td>\n",
       "      <td>0x2ec2c8729da460eb9743e86c3d16713f6aa47325</td>\n",
       "      <td>2018-07-11 01:53:49 UTC</td>\n",
       "      <td>3.04768</td>\n",
       "    </tr>\n",
       "    <tr>\n",
       "      <th>2</th>\n",
       "      <td>0x8e04af7f7c76daa9ab429b1340e0327b5b835748</td>\n",
       "      <td>0x0000000000085d4780b73119b644ae5ecd22b376</td>\n",
       "      <td>2019-08-20 14:27:26 UTC</td>\n",
       "      <td>0.00000</td>\n",
       "    </tr>\n",
       "    <tr>\n",
       "      <th>3</th>\n",
       "      <td>0x8f6147a13514d7cc7c1c85bc4fad8f7f1bc63b57</td>\n",
       "      <td>0x0d8775f648430679a709e98d2b0cb6250d2887ef</td>\n",
       "      <td>2019-05-30 03:04:18 UTC</td>\n",
       "      <td>0.00000</td>\n",
       "    </tr>\n",
       "    <tr>\n",
       "      <th>4</th>\n",
       "      <td>0x7b6f730249555a85d39327b90f0080e9dc63daff</td>\n",
       "      <td>0x1cb9ede1a43ab0265d6c44be4f3db554abf822c5</td>\n",
       "      <td>2019-05-30 13:17:56 UTC</td>\n",
       "      <td>250.00000</td>\n",
       "    </tr>\n",
       "  </tbody>\n",
       "</table>\n",
       "</div>"
      ],
      "text/plain": [
       "                                 from_address  \\\n",
       "0  0x7ac34681f6aaeb691e150c43ee494177c0e2c183   \n",
       "1  0xf1cf296c11d3b010e6dd3d48b6c5aaed613e96f1   \n",
       "2  0x8e04af7f7c76daa9ab429b1340e0327b5b835748   \n",
       "3  0x8f6147a13514d7cc7c1c85bc4fad8f7f1bc63b57   \n",
       "4  0x7b6f730249555a85d39327b90f0080e9dc63daff   \n",
       "\n",
       "                                   to_address          block_timestamp  \\\n",
       "0  0x7fb6fefe6c524d9cb06025583c0ad59aad2f6f5b  2018-07-11 11:57:20 UTC   \n",
       "1  0x2ec2c8729da460eb9743e86c3d16713f6aa47325  2018-07-11 01:53:49 UTC   \n",
       "2  0x0000000000085d4780b73119b644ae5ecd22b376  2019-08-20 14:27:26 UTC   \n",
       "3  0x0d8775f648430679a709e98d2b0cb6250d2887ef  2019-05-30 03:04:18 UTC   \n",
       "4  0x1cb9ede1a43ab0265d6c44be4f3db554abf822c5  2019-05-30 13:17:56 UTC   \n",
       "\n",
       "   value_ether  \n",
       "0      1.00000  \n",
       "1      3.04768  \n",
       "2      0.00000  \n",
       "3      0.00000  \n",
       "4    250.00000  "
      ]
     },
     "execution_count": 2,
     "metadata": {},
     "output_type": "execute_result"
    }
   ],
   "source": [
    "# Load data from balances\n",
    "network_data=pd.read_csv('C:/Users/JCRG/Desktop/Master/Dissertation/Data/Transactional_Network_Ether.csv')\n",
    "network_data.head()"
   ]
  },
  {
   "cell_type": "code",
   "execution_count": null,
   "metadata": {},
   "outputs": [],
   "source": [
    "# Prepare data for network. Group by sender and receiver and count the number of transactions\n",
    "network_data_grouped=network_data[['from_address','to_address','value_ether']].groupby(['from_address','to_address']).count()\n",
    "network_data_grouped.reset_index(inplace=True)\n",
    "network_data_grouped.sort_values(by=['value_ether'],ascending=False,inplace=True)\n",
    "network_data_grouped.head(10)"
   ]
  },
  {
   "cell_type": "markdown",
   "metadata": {},
   "source": [
    "### Generate Dataframe Output"
   ]
  },
  {
   "cell_type": "code",
   "execution_count": null,
   "metadata": {},
   "outputs": [],
   "source": [
    "# Create object with network data\n",
    "G = nx.from_pandas_edgelist(network_data_grouped,\n",
    "                            source='from_address',\n",
    "                            target='to_address',\n",
    "                            create_using=nx.DiGraph)"
   ]
  },
  {
   "cell_type": "code",
   "execution_count": null,
   "metadata": {},
   "outputs": [],
   "source": [
    "# Get the nodes where the top 10,000 whales are transacting with.\n",
    "df=pd.DataFrame(G.in_degree()).sort_values(1,ascending=False)\n",
    "df.columns=['Address','Count']\n",
    "# Select the top 100 addresses\n",
    "df=df[:99]"
   ]
  },
  {
   "cell_type": "code",
   "execution_count": null,
   "metadata": {},
   "outputs": [],
   "source": [
    "# Get nametag with the addresses from Etherscan through crawler. This is perform to identify easier which are the names of the addresses, if available.\n",
    "def get_nametag(address):\n",
    "    #Make API request to Etherscan\n",
    "    url = 'https://etherscan.io/address/%s'%(address) # Initiate with the first page of accounts with 100 records\n",
    "    req = Request(url,headers={'User-Agent':'Mozilla/5.0 (X11; Linux x86_64) AppleWebKit/537.36 (KHTML, like Gecko) Chrome/47.0.2526.106 Safari/537.36'})   # Etherscan restricts the access for Webscrapping, reason why headers needs to be stated\n",
    "    response = urlopen(req, timeout=500).read() # Read response\n",
    "    page_soup = soup(response, \"html.parser\") # Parse HTML response\n",
    "    page_soup.find('title')\n",
    "    a=page_soup.find('title')\n",
    "    a=str(a)\n",
    "    a=((a.split('|')[0])[10:])[:-1]\n",
    "    time.sleep(2) # Etherscan restricts the access if the requests are perform too fast. The function delays the code by two seconds\n",
    "    return a"
   ]
  },
  {
   "cell_type": "code",
   "execution_count": null,
   "metadata": {},
   "outputs": [],
   "source": [
    "# Create column with nametag\n",
    "df['tag'] = df['Address'].apply(get_nametag)\n",
    "# Visualize dataframe\n",
    "with pd.option_context('display.max_rows', 100, 'display.max_columns', 10):\n",
    "    display(df)"
   ]
  },
  {
   "cell_type": "markdown",
   "metadata": {},
   "source": [
    "## Insider Trading Preparation"
   ]
  },
  {
   "cell_type": "markdown",
   "metadata": {},
   "source": [
    "### Import and preprocess Listing Dates"
   ]
  },
  {
   "cell_type": "code",
   "execution_count": null,
   "metadata": {},
   "outputs": [],
   "source": [
    "# Import Listings from Binance\n",
    "listings=pd.read_csv('Listing_Dates.csv')\n",
    "listings=df.merge(listings,on='tag',how='left')\n",
    "listings.columns=['to_address','count','tag','listing_date']"
   ]
  },
  {
   "cell_type": "code",
   "execution_count": null,
   "metadata": {},
   "outputs": [],
   "source": [
    "# Merge data with the transactional data from addresses and filter out the addresses that are not in the listings\n",
    "df2=network_data.merge(listings,on='to_address')\n",
    "df2=df2[(df2['listing_date']!='Not listed')&(~df2['listing_date'].isna())]\n",
    "# Configure time format for listing date\n",
    "df2['listing_date']=pd.to_datetime(df2['listing_date'],infer_datetime_format=True)\n",
    "# Configure time format for block_timestamp date\n",
    "df2['block_timestamp']=pd.to_datetime(df2['block_timestamp'],infer_datetime_format=True)\n",
    "df2['block_timestamp']=df2['block_timestamp'].dt.date\n",
    "df2['block_timestamp']=pd.to_datetime(df2['block_timestamp'],infer_datetime_format=True)"
   ]
  },
  {
   "cell_type": "markdown",
   "metadata": {},
   "source": [
    "### Create Filters in Transactional data with Listings In Binance"
   ]
  },
  {
   "cell_type": "code",
   "execution_count": null,
   "metadata": {},
   "outputs": [],
   "source": [
    "# Create column with True & False for the difference between the listing date and the block timestamp. This are the transactions that has been done before 30 days of the listing in Binance.\n",
    "df2['date_before_listing']=(df2['block_timestamp'] < (df2['listing_date']-timedelta(days=30)))\n",
    "# Create column with True & False for transactions that has been done between the two stated dates, which are between the listing date and 30 days before it.\n",
    "df2['date_between_listing']=(df2['block_timestamp'] > (df2['listing_date']-timedelta(days=30))) & (df2['block_timestamp'] < df2['listing_date'])\n",
    "# Create column with key of address and tag for future filtering\n",
    "df2['key']=df2[['from_address','tag']].agg('-'.join,axis=1)"
   ]
  },
  {
   "cell_type": "code",
   "execution_count": null,
   "metadata": {},
   "outputs": [],
   "source": [
    "# Create dataframe with 'from_address' and 'to_address' to filter 'from_address' that have had transactions 30 days before the listing in Binance.\n",
    "previous_transactions_true=df2[df2['date_before_listing']==True].groupby(['from_address','tag']).nunique()\n",
    "previous_transactions_true=previous_transactions_true.reset_index()\n",
    "previous_transactions_true=previous_transactions_true[['from_address','tag']]\n",
    "# Create column with key of address and tag for future filtering\n",
    "previous_transactions_true['key']=previous_transactions_true[['from_address','tag']].agg('-'.join,axis=1)"
   ]
  },
  {
   "cell_type": "code",
   "execution_count": null,
   "metadata": {},
   "outputs": [],
   "source": [
    "# Create dataframe with filter of transactional data and listings\n",
    "df3 = df2[~df2.key.isin(list(previous_transactions_true['key']))]\n",
    "df3=df3[df3['date_between_listing']==True]\n",
    "df3.groupby(['from_address','tag']).nunique()\n",
    "# Print\n",
    "df3"
   ]
  },
  {
   "cell_type": "code",
   "execution_count": null,
   "metadata": {},
   "outputs": [],
   "source": [
    "df3.groupby(['from_address','tag']).count()"
   ]
  },
  {
   "cell_type": "markdown",
   "metadata": {},
   "source": [
    "### Export Data"
   ]
  },
  {
   "cell_type": "code",
   "execution_count": null,
   "metadata": {},
   "outputs": [],
   "source": [
    "df3.to_csv(\"df3.csv\",index=False)\n"
   ]
  }
 ],
 "metadata": {
  "kernelspec": {
   "display_name": "Python 3.9.2",
   "language": "python",
   "name": "python3"
  },
  "language_info": {
   "codemirror_mode": {
    "name": "ipython",
    "version": 3
   },
   "file_extension": ".py",
   "mimetype": "text/x-python",
   "name": "python",
   "nbconvert_exporter": "python",
   "pygments_lexer": "ipython3",
   "version": "3.9.2"
  },
  "orig_nbformat": 4,
  "vscode": {
   "interpreter": {
    "hash": "25ee92a31d68368ca42246886434fcbb9e7213bd1bda7fd865dcfe6c3fbc7f9f"
   }
  }
 },
 "nbformat": 4,
 "nbformat_minor": 2
}
