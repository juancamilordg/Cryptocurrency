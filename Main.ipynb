{
 "cells": [
  {
   "cell_type": "markdown",
   "metadata": {},
   "source": [
    "# Dissertation Project: Cryptocurrency Analytics"
   ]
  }
 ],
 "metadata": {
  "interpreter": {
   "hash": "25ee92a31d68368ca42246886434fcbb9e7213bd1bda7fd865dcfe6c3fbc7f9f"
  },
  "kernelspec": {
   "display_name": "Python 3.9.2",
   "language": "python",
   "name": "python3"
  },
  "language_info": {
   "name": "python",
   "version": "3.9.2"
  },
  "orig_nbformat": 4
 },
 "nbformat": 4,
 "nbformat_minor": 2
}
