{
 "cells": [
  {
   "cell_type": "markdown",
   "metadata": {},
   "source": [
    "# Dissertation Project: Cryptocurrency Analytics"
   ]
  },
  {
   "cell_type": "markdown",
   "metadata": {},
   "source": [
    "## Import Libraries"
   ]
  },
  {
   "cell_type": "code",
   "execution_count": 2,
   "metadata": {},
   "outputs": [],
   "source": [
    "from google.cloud import bigquery\n",
    "import pandas as pd\n",
    "import os\n",
    "os.environ[\"GOOGLE_APPLICATION_CREDENTIALS\"]=\"C:/Users/JCRG/Desktop/Master/Dissertation/Code/Google Cloud/dissertation-352916-492433041777.json\"\n"
   ]
  },
  {
   "cell_type": "markdown",
   "metadata": {},
   "source": [
    "## Connect to Google Big Query API"
   ]
  },
  {
   "cell_type": "code",
   "execution_count": 4,
   "metadata": {},
   "outputs": [
    {
     "name": "stdout",
     "output_type": "stream",
     "text": [
      "   sum_tx_ether  avg_tx_gas_cost     tx_date\n",
      "0  8.246872e+06         0.000537  2018-01-01\n",
      "1  1.398478e+07         0.000584  2018-01-02\n",
      "2  1.397559e+07         0.000605  2018-01-03\n",
      "3  2.023177e+07         0.000700  2018-01-04\n",
      "4  1.851769e+07         0.001925  2018-01-05\n"
     ]
    }
   ],
   "source": [
    "from google.cloud import bigquery\n",
    "\n",
    "bqclient = bigquery.Client()\n",
    "\n",
    "# Download query results.\n",
    "query_string = \"\"\"\n",
    "SELECT \n",
    "  SUM(value/POWER(10,18)) AS sum_tx_ether,\n",
    "  AVG(gas_price*(receipt_gas_used/POWER(10,18))) AS avg_tx_gas_cost,\n",
    "  DATE(timestamp) AS tx_date\n",
    "FROM\n",
    "  `bigquery-public-data.crypto_ethereum.transactions` AS transactions,\n",
    "  `bigquery-public-data.crypto_ethereum.blocks` AS blocks\n",
    "WHERE TRUE\n",
    "  AND transactions.block_number = blocks.number\n",
    "  AND receipt_status = 1\n",
    "  AND value > 0\n",
    "GROUP BY tx_date\n",
    "HAVING tx_date >= '2018-01-01' AND tx_date <= '2018-12-31'\n",
    "ORDER BY tx_date\n",
    "\"\"\"\n",
    "\n",
    "dataframe = (\n",
    "    bqclient.query(query_string)\n",
    "    .result()\n",
    "    .to_dataframe(\n",
    "        # Optionally, explicitly request to use the BigQuery Storage API. As of\n",
    "        # google-cloud-bigquery version 1.26.0 and above, the BigQuery Storage\n",
    "        # API is used by default.\n",
    "        create_bqstorage_client=True,\n",
    "    )\n",
    ")\n",
    "print(dataframe.head())"
   ]
  }
 ],
 "metadata": {
  "interpreter": {
   "hash": "25ee92a31d68368ca42246886434fcbb9e7213bd1bda7fd865dcfe6c3fbc7f9f"
  },
  "kernelspec": {
   "display_name": "Python 3.9.2",
   "language": "python",
   "name": "python3"
  },
  "language_info": {
   "codemirror_mode": {
    "name": "ipython",
    "version": 3
   },
   "file_extension": ".py",
   "mimetype": "text/x-python",
   "name": "python",
   "nbconvert_exporter": "python",
   "pygments_lexer": "ipython3",
   "version": "3.9.2"
  },
  "orig_nbformat": 4
 },
 "nbformat": 4,
 "nbformat_minor": 2
}
