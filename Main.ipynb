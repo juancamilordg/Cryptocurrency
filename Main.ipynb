{
 "cells": [
  {
   "cell_type": "markdown",
   "metadata": {},
   "source": [
    "# Cryptocurrency Analytics"
   ]
  },
  {
   "cell_type": "markdown",
   "metadata": {},
   "source": [
    "## Import Libraries"
   ]
  },
  {
   "cell_type": "code",
   "execution_count": 2,
   "metadata": {},
   "outputs": [],
   "source": [
    "# Import Libraries\n",
    "from google.cloud import bigquery\n",
    "import pandas as pd\n",
    "import matplotlib.pyplot as plt\n",
    "import seaborn as sns\n",
    "import os\n",
    "from google.cloud import bigquery"
   ]
  },
  {
   "cell_type": "markdown",
   "metadata": {},
   "source": [
    "## Connect to Google Big Query API"
   ]
  },
  {
   "cell_type": "code",
   "execution_count": null,
   "metadata": {},
   "outputs": [],
   "source": [
    "# Define Google Cloud Credential\n",
    "os.environ[\"GOOGLE_APPLICATION_CREDENTIALS\"]=\"C:/Users/JCRG/Desktop/Master/Dissertation/Code/Google Cloud/dissertation-352916-492433041777.json\"\n",
    "# Call Big Query API\n",
    "bqclient = bigquery.Client()"
   ]
  },
  {
   "cell_type": "markdown",
   "metadata": {},
   "source": [
    "Queries can be run directly from the notebook; however, considering the computational power required for running some queries, they are run in BigQuery and saved in the folder"
   ]
  },
  {
   "cell_type": "code",
   "execution_count": null,
   "metadata": {},
   "outputs": [],
   "source": [
    "# Code to Execute Queries from notebook\n",
    "query_string = \"\"\"\n",
    "\n",
    "\"\"\"\n",
    "\n",
    "df_wallets_high_balance = (\n",
    "    bqclient.query(query_string)\n",
    "    .result()\n",
    "    .to_dataframe(\n",
    "        create_bqstorage_client=True,\n",
    "    )\n",
    ")\n",
    "print(df_wallets_high_balance.head())"
   ]
  },
  {
   "cell_type": "markdown",
   "metadata": {},
   "source": [
    "## Highest Positive Variation in Wallets"
   ]
  },
  {
   "cell_type": "markdown",
   "metadata": {},
   "source": [
    "The comparison is performed since 2019-01-01 to 2020-06-19"
   ]
  },
  {
   "cell_type": "markdown",
   "metadata": {},
   "source": [
    "### Compare based on Account Balance"
   ]
  },
  {
   "cell_type": "code",
   "execution_count": 3,
   "metadata": {},
   "outputs": [],
   "source": [
    "# Load data from balances\n",
    "balances_20190101=pd.read_csv('Balances_20190101.csv')\n",
    "balances_20220601=pd.read_csv('Balances_20220619.csv')"
   ]
  },
  {
   "cell_type": "code",
   "execution_count": 4,
   "metadata": {},
   "outputs": [],
   "source": [
    "# Merge data\n",
    "balances_join=balances_20220601.merge(balances_20190101,on='address')\n",
    "# Calculate percentual difference\n",
    "balances_join['percentual_Diff']=(balances_join['balance_x']-balances_join['balance_y'])/balances_join['balance_y']*100\n",
    "# Organize and print data\n",
    "balances_join=balances_join[balances_join['balance_x']>100].sort_values('percentual_Diff',ascending=False)"
   ]
  },
  {
   "cell_type": "code",
   "execution_count": 5,
   "metadata": {},
   "outputs": [],
   "source": [
    "top_100_addresses=balances_join[0:99]['address']"
   ]
  },
  {
   "cell_type": "code",
   "execution_count": 6,
   "metadata": {},
   "outputs": [],
   "source": [
    "top_100_addresses.to_csv('top_100_addresses.csv',index=False,sep='\\t', encoding='utf-8')"
   ]
  },
  {
   "cell_type": "markdown",
   "metadata": {},
   "source": [
    "## Network Analysis of Top addresses"
   ]
  },
  {
   "cell_type": "code",
   "execution_count": 7,
   "metadata": {},
   "outputs": [],
   "source": [
    "import networkx as nx"
   ]
  },
  {
   "cell_type": "code",
   "execution_count": 8,
   "metadata": {},
   "outputs": [
    {
     "data": {
      "text/html": [
       "<div>\n",
       "<style scoped>\n",
       "    .dataframe tbody tr th:only-of-type {\n",
       "        vertical-align: middle;\n",
       "    }\n",
       "\n",
       "    .dataframe tbody tr th {\n",
       "        vertical-align: top;\n",
       "    }\n",
       "\n",
       "    .dataframe thead th {\n",
       "        text-align: right;\n",
       "    }\n",
       "</style>\n",
       "<table border=\"1\" class=\"dataframe\">\n",
       "  <thead>\n",
       "    <tr style=\"text-align: right;\">\n",
       "      <th></th>\n",
       "      <th>address</th>\n",
       "      <th>hash</th>\n",
       "      <th>nonce</th>\n",
       "      <th>transaction_index</th>\n",
       "      <th>from_address</th>\n",
       "      <th>to_address</th>\n",
       "      <th>value</th>\n",
       "      <th>gas</th>\n",
       "      <th>gas_price</th>\n",
       "      <th>input</th>\n",
       "      <th>...</th>\n",
       "      <th>receipt_contract_address</th>\n",
       "      <th>receipt_root</th>\n",
       "      <th>receipt_status</th>\n",
       "      <th>block_timestamp</th>\n",
       "      <th>block_number</th>\n",
       "      <th>block_hash</th>\n",
       "      <th>max_fee_per_gas</th>\n",
       "      <th>max_priority_fee_per_gas</th>\n",
       "      <th>transaction_type</th>\n",
       "      <th>receipt_effective_gas_price</th>\n",
       "    </tr>\n",
       "  </thead>\n",
       "  <tbody>\n",
       "    <tr>\n",
       "      <th>0</th>\n",
       "      <td>0x8f6438f028b0fba4dcea654bcd7f46e868f0129e</td>\n",
       "      <td>0x17ad069d421501c8027f777275c26a6b3787d732f0da...</td>\n",
       "      <td>0.0</td>\n",
       "      <td>0.0</td>\n",
       "      <td>0x8f6438f028b0fba4dcea654bcd7f46e868f0129e</td>\n",
       "      <td>0x5fd0745c4e2091fc37305f0b5b61b6d0ba9a2086</td>\n",
       "      <td>3E+18</td>\n",
       "      <td>21000.0</td>\n",
       "      <td>20000000000</td>\n",
       "      <td>0x</td>\n",
       "      <td>...</td>\n",
       "      <td>NaN</td>\n",
       "      <td>0x515fe9501095e7a567b8d60015b7f509225d6da66cea...</td>\n",
       "      <td>NaN</td>\n",
       "      <td>2016-12-11 17:54:22 UTC</td>\n",
       "      <td>2789973.0</td>\n",
       "      <td>0x4145033ee060c082ca7d2a0e07818cfd77857bd5b3e9...</td>\n",
       "      <td>NaN</td>\n",
       "      <td>NaN</td>\n",
       "      <td>NaN</td>\n",
       "      <td>2.000000e+10</td>\n",
       "    </tr>\n",
       "    <tr>\n",
       "      <th>1</th>\n",
       "      <td>0xc3ae285106d44bebe80bd2bea93295223a3cc253</td>\n",
       "      <td>0x32cea138d0826b84737a65d034506e8039f897ba54c3...</td>\n",
       "      <td>5.0</td>\n",
       "      <td>15.0</td>\n",
       "      <td>0xc3ae285106d44bebe80bd2bea93295223a3cc253</td>\n",
       "      <td>0x08711d3b02c8758f2fb3ab4e80228418a7f8e39c</td>\n",
       "      <td>0</td>\n",
       "      <td>52061.0</td>\n",
       "      <td>10000000000</td>\n",
       "      <td>0xa9059cbb0000000000000000000000008c10310196ba...</td>\n",
       "      <td>...</td>\n",
       "      <td>NaN</td>\n",
       "      <td>0x789b2eac3fc4969e94f34290631168345b423fd69b67...</td>\n",
       "      <td>NaN</td>\n",
       "      <td>2017-08-11 09:20:08 UTC</td>\n",
       "      <td>4143813.0</td>\n",
       "      <td>0x6d412ec61072d7249d27bcf05c0da629b332b9922958...</td>\n",
       "      <td>NaN</td>\n",
       "      <td>NaN</td>\n",
       "      <td>NaN</td>\n",
       "      <td>1.000000e+10</td>\n",
       "    </tr>\n",
       "    <tr>\n",
       "      <th>2</th>\n",
       "      <td>0x6617dea94202ab8fa8aae019b45c9881e30365ea</td>\n",
       "      <td>0x85ab1387e86dc88936d82d68364eb5c7c2d7dc0e5d86...</td>\n",
       "      <td>206.0</td>\n",
       "      <td>150.0</td>\n",
       "      <td>0x6617dea94202ab8fa8aae019b45c9881e30365ea</td>\n",
       "      <td>0xdac17f958d2ee523a2206206994597c13d831ec7</td>\n",
       "      <td>0</td>\n",
       "      <td>75865.0</td>\n",
       "      <td>20500000000</td>\n",
       "      <td>0xa9059cbb000000000000000000000000e0a472da1a14...</td>\n",
       "      <td>...</td>\n",
       "      <td>NaN</td>\n",
       "      <td>NaN</td>\n",
       "      <td>1.0</td>\n",
       "      <td>2022-03-09 13:34:53 UTC</td>\n",
       "      <td>14352878.0</td>\n",
       "      <td>0x573754c19864922674d51c9a7ba57f4fd8cbd92b40ae...</td>\n",
       "      <td>NaN</td>\n",
       "      <td>NaN</td>\n",
       "      <td>NaN</td>\n",
       "      <td>2.050000e+10</td>\n",
       "    </tr>\n",
       "    <tr>\n",
       "      <th>3</th>\n",
       "      <td>0xc3ae285106d44bebe80bd2bea93295223a3cc253</td>\n",
       "      <td>0xc5f9694cce684c6f228ab29ce9c7a1b6ab1b55a93b59...</td>\n",
       "      <td>132.0</td>\n",
       "      <td>240.0</td>\n",
       "      <td>0xc3ae285106d44bebe80bd2bea93295223a3cc253</td>\n",
       "      <td>0x1f9840a85d5af5bf1d1762f925bdaddc4201f984</td>\n",
       "      <td>0</td>\n",
       "      <td>44535.0</td>\n",
       "      <td>1.538E+11</td>\n",
       "      <td>0x095ea7b3000000000000000000000000def1c0ded9be...</td>\n",
       "      <td>...</td>\n",
       "      <td>NaN</td>\n",
       "      <td>NaN</td>\n",
       "      <td>1.0</td>\n",
       "      <td>2022-01-31 00:17:55 UTC</td>\n",
       "      <td>14110373.0</td>\n",
       "      <td>0x5f145de5bad9957038b3111b8ec1bbad6cfcdffb3a3f...</td>\n",
       "      <td>3.120960e+11</td>\n",
       "      <td>1.000000e+09</td>\n",
       "      <td>2.0</td>\n",
       "      <td>1.538000e+11</td>\n",
       "    </tr>\n",
       "    <tr>\n",
       "      <th>4</th>\n",
       "      <td>0xc3ae285106d44bebe80bd2bea93295223a3cc253</td>\n",
       "      <td>0x66bc4900fd6434d09980c97ea6b0523116beaddf4a2f...</td>\n",
       "      <td>134.0</td>\n",
       "      <td>303.0</td>\n",
       "      <td>0xc3ae285106d44bebe80bd2bea93295223a3cc253</td>\n",
       "      <td>0xa0b86991c6218b36c1d19d4a2e9eb0ce3606eb48</td>\n",
       "      <td>0</td>\n",
       "      <td>64506.0</td>\n",
       "      <td>1.50375E+11</td>\n",
       "      <td>0x095ea7b3000000000000000000000000def1c0ded9be...</td>\n",
       "      <td>...</td>\n",
       "      <td>NaN</td>\n",
       "      <td>NaN</td>\n",
       "      <td>1.0</td>\n",
       "      <td>2022-01-31 00:19:51 UTC</td>\n",
       "      <td>14110379.0</td>\n",
       "      <td>0xbb0dc12543e7043c5a53535a9f6c4242b8e0c66bf93c...</td>\n",
       "      <td>2.728820e+11</td>\n",
       "      <td>1.000000e+09</td>\n",
       "      <td>2.0</td>\n",
       "      <td>1.503750e+11</td>\n",
       "    </tr>\n",
       "  </tbody>\n",
       "</table>\n",
       "<p>5 rows × 22 columns</p>\n",
       "</div>"
      ],
      "text/plain": [
       "                                      address  \\\n",
       "0  0x8f6438f028b0fba4dcea654bcd7f46e868f0129e   \n",
       "1  0xc3ae285106d44bebe80bd2bea93295223a3cc253   \n",
       "2  0x6617dea94202ab8fa8aae019b45c9881e30365ea   \n",
       "3  0xc3ae285106d44bebe80bd2bea93295223a3cc253   \n",
       "4  0xc3ae285106d44bebe80bd2bea93295223a3cc253   \n",
       "\n",
       "                                                hash  nonce  \\\n",
       "0  0x17ad069d421501c8027f777275c26a6b3787d732f0da...    0.0   \n",
       "1  0x32cea138d0826b84737a65d034506e8039f897ba54c3...    5.0   \n",
       "2  0x85ab1387e86dc88936d82d68364eb5c7c2d7dc0e5d86...  206.0   \n",
       "3  0xc5f9694cce684c6f228ab29ce9c7a1b6ab1b55a93b59...  132.0   \n",
       "4  0x66bc4900fd6434d09980c97ea6b0523116beaddf4a2f...  134.0   \n",
       "\n",
       "   transaction_index                                from_address  \\\n",
       "0                0.0  0x8f6438f028b0fba4dcea654bcd7f46e868f0129e   \n",
       "1               15.0  0xc3ae285106d44bebe80bd2bea93295223a3cc253   \n",
       "2              150.0  0x6617dea94202ab8fa8aae019b45c9881e30365ea   \n",
       "3              240.0  0xc3ae285106d44bebe80bd2bea93295223a3cc253   \n",
       "4              303.0  0xc3ae285106d44bebe80bd2bea93295223a3cc253   \n",
       "\n",
       "                                   to_address  value      gas    gas_price  \\\n",
       "0  0x5fd0745c4e2091fc37305f0b5b61b6d0ba9a2086  3E+18  21000.0  20000000000   \n",
       "1  0x08711d3b02c8758f2fb3ab4e80228418a7f8e39c      0  52061.0  10000000000   \n",
       "2  0xdac17f958d2ee523a2206206994597c13d831ec7      0  75865.0  20500000000   \n",
       "3  0x1f9840a85d5af5bf1d1762f925bdaddc4201f984      0  44535.0    1.538E+11   \n",
       "4  0xa0b86991c6218b36c1d19d4a2e9eb0ce3606eb48      0  64506.0  1.50375E+11   \n",
       "\n",
       "                                               input  ...  \\\n",
       "0                                                 0x  ...   \n",
       "1  0xa9059cbb0000000000000000000000008c10310196ba...  ...   \n",
       "2  0xa9059cbb000000000000000000000000e0a472da1a14...  ...   \n",
       "3  0x095ea7b3000000000000000000000000def1c0ded9be...  ...   \n",
       "4  0x095ea7b3000000000000000000000000def1c0ded9be...  ...   \n",
       "\n",
       "   receipt_contract_address  \\\n",
       "0                       NaN   \n",
       "1                       NaN   \n",
       "2                       NaN   \n",
       "3                       NaN   \n",
       "4                       NaN   \n",
       "\n",
       "                                        receipt_root  receipt_status  \\\n",
       "0  0x515fe9501095e7a567b8d60015b7f509225d6da66cea...             NaN   \n",
       "1  0x789b2eac3fc4969e94f34290631168345b423fd69b67...             NaN   \n",
       "2                                                NaN             1.0   \n",
       "3                                                NaN             1.0   \n",
       "4                                                NaN             1.0   \n",
       "\n",
       "           block_timestamp  block_number  \\\n",
       "0  2016-12-11 17:54:22 UTC     2789973.0   \n",
       "1  2017-08-11 09:20:08 UTC     4143813.0   \n",
       "2  2022-03-09 13:34:53 UTC    14352878.0   \n",
       "3  2022-01-31 00:17:55 UTC    14110373.0   \n",
       "4  2022-01-31 00:19:51 UTC    14110379.0   \n",
       "\n",
       "                                          block_hash  max_fee_per_gas  \\\n",
       "0  0x4145033ee060c082ca7d2a0e07818cfd77857bd5b3e9...              NaN   \n",
       "1  0x6d412ec61072d7249d27bcf05c0da629b332b9922958...              NaN   \n",
       "2  0x573754c19864922674d51c9a7ba57f4fd8cbd92b40ae...              NaN   \n",
       "3  0x5f145de5bad9957038b3111b8ec1bbad6cfcdffb3a3f...     3.120960e+11   \n",
       "4  0xbb0dc12543e7043c5a53535a9f6c4242b8e0c66bf93c...     2.728820e+11   \n",
       "\n",
       "  max_priority_fee_per_gas  transaction_type  receipt_effective_gas_price  \n",
       "0                      NaN               NaN                 2.000000e+10  \n",
       "1                      NaN               NaN                 1.000000e+10  \n",
       "2                      NaN               NaN                 2.050000e+10  \n",
       "3             1.000000e+09               2.0                 1.538000e+11  \n",
       "4             1.000000e+09               2.0                 1.503750e+11  \n",
       "\n",
       "[5 rows x 22 columns]"
      ]
     },
     "execution_count": 8,
     "metadata": {},
     "output_type": "execute_result"
    }
   ],
   "source": [
    "# Load data from balances\n",
    "network_data=pd.read_csv('top10_merge_transaction_contract.csv')\n",
    "network_data.head()"
   ]
  },
  {
   "cell_type": "code",
   "execution_count": 9,
   "metadata": {},
   "outputs": [
    {
     "data": {
      "text/plain": [
       "2       0xdac17f958d2ee523a2206206994597c13d831ec7\n",
       "10      0x207f89878dd1fe18f55c5aff4e9288153714a1eb\n",
       "12      0xd3caf400a7bc3594fa9c88884c71908d7fc23211\n",
       "43      0x207f89878dd1fe18f55c5aff4e9288153714a1eb\n",
       "45      0x207f89878dd1fe18f55c5aff4e9288153714a1eb\n",
       "                           ...                    \n",
       "3022    0xe0da98e1599dfacd8ef2a82272cbd2af66677964\n",
       "3029    0x664847d871d735a823b6ef8572dc2a3e43248f1b\n",
       "3031    0x207f89878dd1fe18f55c5aff4e9288153714a1eb\n",
       "3059    0x6dfb2c9a0e5cb7d74ce67d131c617edb7fc48bb7\n",
       "3073    0x6dfb2c9a0e5cb7d74ce67d131c617edb7fc48bb7\n",
       "Name: to_address, Length: 231, dtype: object"
      ]
     },
     "execution_count": 9,
     "metadata": {},
     "output_type": "execute_result"
    }
   ],
   "source": [
    "network=network_data[network_data['from_address'].isin(['0x6617dea94202ab8fa8aae019b45c9881e30365ea'])]\n",
    "#network.groupby('to_address').count()\n",
    "network['to_address']"
   ]
  },
  {
   "cell_type": "code",
   "execution_count": 10,
   "metadata": {},
   "outputs": [
    {
     "name": "stdout",
     "output_type": "stream",
     "text": [
      "                                                                                       value\n",
      "from_address                               to_address                                       \n",
      "0x6617dea94202ab8fa8aae019b45c9881e30365ea 0x1e14e5f73d58c18e196a762e738e541207f0fe04      2\n",
      "                                           0x1fbc19dcc8c34462e70c585eb9ddd1247545fce0      1\n",
      "                                           0x207f89878dd1fe18f55c5aff4e9288153714a1eb     69\n",
      "                                           0x20eb0f078d7ee953ba62c5966922a8d22f5fa471      1\n",
      "                                           0x23e122e355c87636748a818cdc38e38f852ca9a8      1\n",
      "...                                                                                      ...\n",
      "0xca7c767854b1e7305de07247ab85e30543d1d9c9 0xfbeef911dc5821886e1dda71586d90ed28174b7d      1\n",
      "                                           0xfd6b622a543c8571506d74ab47505515f5da3034      1\n",
      "                                           0xfea5e213bbd81a8a94d0e1edb09dbd7ceab61e1c      3\n",
      "                                           0xff8c6185b518428d2681bab1da6d662726bbf2d7     10\n",
      "                                           0xffffffff2ba8f66d4e51811c5190992176930278      1\n",
      "\n",
      "[635 rows x 1 columns]\n"
     ]
    }
   ],
   "source": [
    "network_data_grouped=network_data[['from_address','to_address','value']].groupby(['from_address','to_address']).count()\n",
    "print(network_data_grouped)"
   ]
  },
  {
   "cell_type": "code",
   "execution_count": 11,
   "metadata": {},
   "outputs": [],
   "source": [
    "network_data_grouped.reset_index(inplace=True)"
   ]
  },
  {
   "cell_type": "code",
   "execution_count": 12,
   "metadata": {},
   "outputs": [
    {
     "data": {
      "text/html": [
       "<div>\n",
       "<style scoped>\n",
       "    .dataframe tbody tr th:only-of-type {\n",
       "        vertical-align: middle;\n",
       "    }\n",
       "\n",
       "    .dataframe tbody tr th {\n",
       "        vertical-align: top;\n",
       "    }\n",
       "\n",
       "    .dataframe thead th {\n",
       "        text-align: right;\n",
       "    }\n",
       "</style>\n",
       "<table border=\"1\" class=\"dataframe\">\n",
       "  <thead>\n",
       "    <tr style=\"text-align: right;\">\n",
       "      <th></th>\n",
       "      <th>from_address</th>\n",
       "      <th>to_address</th>\n",
       "      <th>value</th>\n",
       "    </tr>\n",
       "  </thead>\n",
       "  <tbody>\n",
       "    <tr>\n",
       "      <th>0</th>\n",
       "      <td>0x6617dea94202ab8fa8aae019b45c9881e30365ea</td>\n",
       "      <td>0x1e14e5f73d58c18e196a762e738e541207f0fe04</td>\n",
       "      <td>2</td>\n",
       "    </tr>\n",
       "    <tr>\n",
       "      <th>1</th>\n",
       "      <td>0x6617dea94202ab8fa8aae019b45c9881e30365ea</td>\n",
       "      <td>0x1fbc19dcc8c34462e70c585eb9ddd1247545fce0</td>\n",
       "      <td>1</td>\n",
       "    </tr>\n",
       "    <tr>\n",
       "      <th>2</th>\n",
       "      <td>0x6617dea94202ab8fa8aae019b45c9881e30365ea</td>\n",
       "      <td>0x207f89878dd1fe18f55c5aff4e9288153714a1eb</td>\n",
       "      <td>69</td>\n",
       "    </tr>\n",
       "    <tr>\n",
       "      <th>3</th>\n",
       "      <td>0x6617dea94202ab8fa8aae019b45c9881e30365ea</td>\n",
       "      <td>0x20eb0f078d7ee953ba62c5966922a8d22f5fa471</td>\n",
       "      <td>1</td>\n",
       "    </tr>\n",
       "    <tr>\n",
       "      <th>4</th>\n",
       "      <td>0x6617dea94202ab8fa8aae019b45c9881e30365ea</td>\n",
       "      <td>0x23e122e355c87636748a818cdc38e38f852ca9a8</td>\n",
       "      <td>1</td>\n",
       "    </tr>\n",
       "    <tr>\n",
       "      <th>...</th>\n",
       "      <td>...</td>\n",
       "      <td>...</td>\n",
       "      <td>...</td>\n",
       "    </tr>\n",
       "    <tr>\n",
       "      <th>630</th>\n",
       "      <td>0xca7c767854b1e7305de07247ab85e30543d1d9c9</td>\n",
       "      <td>0xfbeef911dc5821886e1dda71586d90ed28174b7d</td>\n",
       "      <td>1</td>\n",
       "    </tr>\n",
       "    <tr>\n",
       "      <th>631</th>\n",
       "      <td>0xca7c767854b1e7305de07247ab85e30543d1d9c9</td>\n",
       "      <td>0xfd6b622a543c8571506d74ab47505515f5da3034</td>\n",
       "      <td>1</td>\n",
       "    </tr>\n",
       "    <tr>\n",
       "      <th>632</th>\n",
       "      <td>0xca7c767854b1e7305de07247ab85e30543d1d9c9</td>\n",
       "      <td>0xfea5e213bbd81a8a94d0e1edb09dbd7ceab61e1c</td>\n",
       "      <td>3</td>\n",
       "    </tr>\n",
       "    <tr>\n",
       "      <th>633</th>\n",
       "      <td>0xca7c767854b1e7305de07247ab85e30543d1d9c9</td>\n",
       "      <td>0xff8c6185b518428d2681bab1da6d662726bbf2d7</td>\n",
       "      <td>10</td>\n",
       "    </tr>\n",
       "    <tr>\n",
       "      <th>634</th>\n",
       "      <td>0xca7c767854b1e7305de07247ab85e30543d1d9c9</td>\n",
       "      <td>0xffffffff2ba8f66d4e51811c5190992176930278</td>\n",
       "      <td>1</td>\n",
       "    </tr>\n",
       "  </tbody>\n",
       "</table>\n",
       "<p>635 rows × 3 columns</p>\n",
       "</div>"
      ],
      "text/plain": [
       "                                   from_address  \\\n",
       "0    0x6617dea94202ab8fa8aae019b45c9881e30365ea   \n",
       "1    0x6617dea94202ab8fa8aae019b45c9881e30365ea   \n",
       "2    0x6617dea94202ab8fa8aae019b45c9881e30365ea   \n",
       "3    0x6617dea94202ab8fa8aae019b45c9881e30365ea   \n",
       "4    0x6617dea94202ab8fa8aae019b45c9881e30365ea   \n",
       "..                                          ...   \n",
       "630  0xca7c767854b1e7305de07247ab85e30543d1d9c9   \n",
       "631  0xca7c767854b1e7305de07247ab85e30543d1d9c9   \n",
       "632  0xca7c767854b1e7305de07247ab85e30543d1d9c9   \n",
       "633  0xca7c767854b1e7305de07247ab85e30543d1d9c9   \n",
       "634  0xca7c767854b1e7305de07247ab85e30543d1d9c9   \n",
       "\n",
       "                                     to_address  value  \n",
       "0    0x1e14e5f73d58c18e196a762e738e541207f0fe04      2  \n",
       "1    0x1fbc19dcc8c34462e70c585eb9ddd1247545fce0      1  \n",
       "2    0x207f89878dd1fe18f55c5aff4e9288153714a1eb     69  \n",
       "3    0x20eb0f078d7ee953ba62c5966922a8d22f5fa471      1  \n",
       "4    0x23e122e355c87636748a818cdc38e38f852ca9a8      1  \n",
       "..                                          ...    ...  \n",
       "630  0xfbeef911dc5821886e1dda71586d90ed28174b7d      1  \n",
       "631  0xfd6b622a543c8571506d74ab47505515f5da3034      1  \n",
       "632  0xfea5e213bbd81a8a94d0e1edb09dbd7ceab61e1c      3  \n",
       "633  0xff8c6185b518428d2681bab1da6d662726bbf2d7     10  \n",
       "634  0xffffffff2ba8f66d4e51811c5190992176930278      1  \n",
       "\n",
       "[635 rows x 3 columns]"
      ]
     },
     "execution_count": 12,
     "metadata": {},
     "output_type": "execute_result"
    }
   ],
   "source": [
    "network_data_grouped"
   ]
  },
  {
   "cell_type": "code",
   "execution_count": 13,
   "metadata": {},
   "outputs": [],
   "source": [
    "G = nx.from_pandas_edgelist(network_data_grouped, \n",
    "                            source='from_address',\n",
    "                            target='to_address',\n",
    "                            create_using=nx.DiGraph)"
   ]
  },
  {
   "cell_type": "code",
   "execution_count": 14,
   "metadata": {},
   "outputs": [
    {
     "ename": "AttributeError",
     "evalue": "module 'scipy.sparse' has no attribute 'coo_array'",
     "output_type": "error",
     "traceback": [
      "\u001b[1;31m---------------------------------------------------------------------------\u001b[0m",
      "\u001b[1;31mAttributeError\u001b[0m                            Traceback (most recent call last)",
      "\u001b[1;32mc:\\Users\\JCRG\\Documents\\GitHub\\Cryptocurrency\\Main.ipynb Cell 23'\u001b[0m in \u001b[0;36m<cell line: 2>\u001b[1;34m()\u001b[0m\n\u001b[0;32m      <a href='vscode-notebook-cell:/c%3A/Users/JCRG/Documents/GitHub/Cryptocurrency/Main.ipynb#ch0000022?line=0'>1</a>\u001b[0m plt\u001b[39m.\u001b[39mrcParams\u001b[39m.\u001b[39mupdate({\u001b[39m'\u001b[39m\u001b[39mfigure.figsize\u001b[39m\u001b[39m'\u001b[39m:(\u001b[39m15\u001b[39m,\u001b[39m8\u001b[39m),\u001b[39m'\u001b[39m\u001b[39mfigure.dpi\u001b[39m\u001b[39m'\u001b[39m:\u001b[39m100\u001b[39m})\n\u001b[1;32m----> <a href='vscode-notebook-cell:/c%3A/Users/JCRG/Documents/GitHub/Cryptocurrency/Main.ipynb#ch0000022?line=1'>2</a>\u001b[0m nx\u001b[39m.\u001b[39;49mdraw_networkx(G,with_labels\u001b[39m=\u001b[39;49m\u001b[39mFalse\u001b[39;49;00m)\n",
      "File \u001b[1;32mc:\\Users\\JCRG\\AppData\\Local\\R-MINI~1\\envs\\a\\lib\\site-packages\\networkx\\drawing\\nx_pylab.py:301\u001b[0m, in \u001b[0;36mdraw_networkx\u001b[1;34m(G, pos, arrows, with_labels, **kwds)\u001b[0m\n\u001b[0;32m    298\u001b[0m label_kwds \u001b[39m=\u001b[39m {k: v \u001b[39mfor\u001b[39;00m k, v \u001b[39min\u001b[39;00m kwds\u001b[39m.\u001b[39mitems() \u001b[39mif\u001b[39;00m k \u001b[39min\u001b[39;00m valid_label_kwds}\n\u001b[0;32m    300\u001b[0m \u001b[39mif\u001b[39;00m pos \u001b[39mis\u001b[39;00m \u001b[39mNone\u001b[39;00m:\n\u001b[1;32m--> 301\u001b[0m     pos \u001b[39m=\u001b[39m nx\u001b[39m.\u001b[39;49mdrawing\u001b[39m.\u001b[39;49mspring_layout(G)  \u001b[39m# default to spring layout\u001b[39;00m\n\u001b[0;32m    303\u001b[0m draw_networkx_nodes(G, pos, \u001b[39m*\u001b[39m\u001b[39m*\u001b[39mnode_kwds)\n\u001b[0;32m    304\u001b[0m draw_networkx_edges(G, pos, arrows\u001b[39m=\u001b[39marrows, \u001b[39m*\u001b[39m\u001b[39m*\u001b[39medge_kwds)\n",
      "File \u001b[1;32mc:\\Users\\JCRG\\AppData\\Local\\R-MINI~1\\envs\\a\\lib\\site-packages\\networkx\\utils\\decorators.py:845\u001b[0m, in \u001b[0;36margmap.__call__.<locals>.func\u001b[1;34m(_argmap__wrapper, *args, **kwargs)\u001b[0m\n\u001b[0;32m    844\u001b[0m \u001b[39mdef\u001b[39;00m \u001b[39mfunc\u001b[39m(\u001b[39m*\u001b[39margs, __wrapper\u001b[39m=\u001b[39m\u001b[39mNone\u001b[39;00m, \u001b[39m*\u001b[39m\u001b[39m*\u001b[39mkwargs):\n\u001b[1;32m--> 845\u001b[0m     \u001b[39mreturn\u001b[39;00m argmap\u001b[39m.\u001b[39m_lazy_compile(__wrapper)(\u001b[39m*\u001b[39margs, \u001b[39m*\u001b[39m\u001b[39m*\u001b[39mkwargs)\n",
      "File \u001b[1;32m<class 'networkx.utils.decorators.argmap'> compilation 8:4\u001b[0m, in \u001b[0;36margmap_spring_layout_5\u001b[1;34m(G, k, pos, fixed, iterations, threshold, weight, scale, center, dim, seed)\u001b[0m\n\u001b[0;32m      2\u001b[0m \u001b[39mimport\u001b[39;00m \u001b[39mcollections\u001b[39;00m\n\u001b[0;32m      3\u001b[0m \u001b[39mimport\u001b[39;00m \u001b[39mgzip\u001b[39;00m\n\u001b[1;32m----> 4\u001b[0m \u001b[39mimport\u001b[39;00m \u001b[39minspect\u001b[39;00m\n\u001b[0;32m      5\u001b[0m \u001b[39mimport\u001b[39;00m \u001b[39mitertools\u001b[39;00m\n\u001b[0;32m      6\u001b[0m \u001b[39mimport\u001b[39;00m \u001b[39mre\u001b[39;00m\n",
      "File \u001b[1;32mc:\\Users\\JCRG\\AppData\\Local\\R-MINI~1\\envs\\a\\lib\\site-packages\\networkx\\drawing\\layout.py:476\u001b[0m, in \u001b[0;36mspring_layout\u001b[1;34m(G, k, pos, fixed, iterations, threshold, weight, scale, center, dim, seed)\u001b[0m\n\u001b[0;32m    474\u001b[0m \u001b[39mif\u001b[39;00m \u001b[39mlen\u001b[39m(G) \u001b[39m<\u001b[39m \u001b[39m500\u001b[39m:  \u001b[39m# sparse solver for large graphs\u001b[39;00m\n\u001b[0;32m    475\u001b[0m     \u001b[39mraise\u001b[39;00m \u001b[39mValueError\u001b[39;00m\n\u001b[1;32m--> 476\u001b[0m A \u001b[39m=\u001b[39m nx\u001b[39m.\u001b[39;49mto_scipy_sparse_array(G, weight\u001b[39m=\u001b[39;49mweight, dtype\u001b[39m=\u001b[39;49m\u001b[39m\"\u001b[39;49m\u001b[39mf\u001b[39;49m\u001b[39m\"\u001b[39;49m)\n\u001b[0;32m    477\u001b[0m \u001b[39mif\u001b[39;00m k \u001b[39mis\u001b[39;00m \u001b[39mNone\u001b[39;00m \u001b[39mand\u001b[39;00m fixed \u001b[39mis\u001b[39;00m \u001b[39mnot\u001b[39;00m \u001b[39mNone\u001b[39;00m:\n\u001b[0;32m    478\u001b[0m     \u001b[39m# We must adjust k by domain size for layouts not near 1x1\u001b[39;00m\n\u001b[0;32m    479\u001b[0m     nnodes, _ \u001b[39m=\u001b[39m A\u001b[39m.\u001b[39mshape\n",
      "File \u001b[1;32mc:\\Users\\JCRG\\AppData\\Local\\R-MINI~1\\envs\\a\\lib\\site-packages\\networkx\\convert_matrix.py:909\u001b[0m, in \u001b[0;36mto_scipy_sparse_array\u001b[1;34m(G, nodelist, dtype, weight, format)\u001b[0m\n\u001b[0;32m    906\u001b[0m     row, col, data \u001b[39m=\u001b[39m [], [], []\n\u001b[0;32m    908\u001b[0m \u001b[39mif\u001b[39;00m G\u001b[39m.\u001b[39mis_directed():\n\u001b[1;32m--> 909\u001b[0m     A \u001b[39m=\u001b[39m sp\u001b[39m.\u001b[39;49msparse\u001b[39m.\u001b[39;49mcoo_array((data, (row, col)), shape\u001b[39m=\u001b[39m(nlen, nlen), dtype\u001b[39m=\u001b[39mdtype)\n\u001b[0;32m    910\u001b[0m \u001b[39melse\u001b[39;00m:\n\u001b[0;32m    911\u001b[0m     \u001b[39m# symmetrize matrix\u001b[39;00m\n\u001b[0;32m    912\u001b[0m     d \u001b[39m=\u001b[39m data \u001b[39m+\u001b[39m data\n",
      "\u001b[1;31mAttributeError\u001b[0m: module 'scipy.sparse' has no attribute 'coo_array'"
     ]
    }
   ],
   "source": [
    "plt.rcParams.update({'figure.figsize':(15,8),'figure.dpi':100})\n",
    "nx.draw_networkx(G,with_labels=False)\n"
   ]
  },
  {
   "cell_type": "code",
   "execution_count": 15,
   "metadata": {},
   "outputs": [],
   "source": [
    "from pyvis import network as net\n",
    "g=net.Network(notebook=False,height='400px', width='80%',heading='')\n",
    "g.show_buttons(filter_=True)\n"
   ]
  },
  {
   "cell_type": "code",
   "execution_count": 16,
   "metadata": {},
   "outputs": [],
   "source": [
    "g.from_nx(G)"
   ]
  },
  {
   "cell_type": "code",
   "execution_count": 17,
   "metadata": {},
   "outputs": [],
   "source": [
    "g.show('a.html')"
   ]
  },
  {
   "cell_type": "code",
   "execution_count": 194,
   "metadata": {},
   "outputs": [
    {
     "data": {
      "text/html": [
       "<div>\n",
       "<style scoped>\n",
       "    .dataframe tbody tr th:only-of-type {\n",
       "        vertical-align: middle;\n",
       "    }\n",
       "\n",
       "    .dataframe tbody tr th {\n",
       "        vertical-align: top;\n",
       "    }\n",
       "\n",
       "    .dataframe thead th {\n",
       "        text-align: right;\n",
       "    }\n",
       "</style>\n",
       "<table border=\"1\" class=\"dataframe\">\n",
       "  <thead>\n",
       "    <tr style=\"text-align: right;\">\n",
       "      <th></th>\n",
       "      <th>0</th>\n",
       "      <th>1</th>\n",
       "    </tr>\n",
       "  </thead>\n",
       "  <tbody>\n",
       "    <tr>\n",
       "      <th>80</th>\n",
       "      <td>0x7a250d5630b4cf539739df2c5dacb4c659f2488d</td>\n",
       "      <td>5</td>\n",
       "    </tr>\n",
       "    <tr>\n",
       "      <th>16</th>\n",
       "      <td>0xa0b86991c6218b36c1d19d4a2e9eb0ce3606eb48</td>\n",
       "      <td>5</td>\n",
       "    </tr>\n",
       "    <tr>\n",
       "      <th>73</th>\n",
       "      <td>0x1f9840a85d5af5bf1d1762f925bdaddc4201f984</td>\n",
       "      <td>5</td>\n",
       "    </tr>\n",
       "    <tr>\n",
       "      <th>88</th>\n",
       "      <td>0x111111125434b319222cdbf8c261674adb56f3ae</td>\n",
       "      <td>4</td>\n",
       "    </tr>\n",
       "    <tr>\n",
       "      <th>128</th>\n",
       "      <td>0xc02aaa39b223fe8d0a0e5c4f27ead9083c756cc2</td>\n",
       "      <td>4</td>\n",
       "    </tr>\n",
       "    <tr>\n",
       "      <th>...</th>\n",
       "      <td>...</td>\n",
       "      <td>...</td>\n",
       "    </tr>\n",
       "    <tr>\n",
       "      <th>273</th>\n",
       "      <td>0xc2a39291acf6ae4ed29c6fcc15f1d54141f8d833</td>\n",
       "      <td>0</td>\n",
       "    </tr>\n",
       "    <tr>\n",
       "      <th>150</th>\n",
       "      <td>0x9d2e7bdb754a2a8ee10038933b5a885e6aaf2c73</td>\n",
       "      <td>0</td>\n",
       "    </tr>\n",
       "    <tr>\n",
       "      <th>28</th>\n",
       "      <td>0x874b87125cf394cd17398f45ee0dbc31fceda791</td>\n",
       "      <td>0</td>\n",
       "    </tr>\n",
       "    <tr>\n",
       "      <th>69</th>\n",
       "      <td>0x8f0172b948b0d6700f35ab27a22906fa2e672071</td>\n",
       "      <td>0</td>\n",
       "    </tr>\n",
       "    <tr>\n",
       "      <th>0</th>\n",
       "      <td>0x6617dea94202ab8fa8aae019b45c9881e30365ea</td>\n",
       "      <td>0</td>\n",
       "    </tr>\n",
       "  </tbody>\n",
       "</table>\n",
       "<p>554 rows × 2 columns</p>\n",
       "</div>"
      ],
      "text/plain": [
       "                                              0  1\n",
       "80   0x7a250d5630b4cf539739df2c5dacb4c659f2488d  5\n",
       "16   0xa0b86991c6218b36c1d19d4a2e9eb0ce3606eb48  5\n",
       "73   0x1f9840a85d5af5bf1d1762f925bdaddc4201f984  5\n",
       "88   0x111111125434b319222cdbf8c261674adb56f3ae  4\n",
       "128  0xc02aaa39b223fe8d0a0e5c4f27ead9083c756cc2  4\n",
       "..                                          ... ..\n",
       "273  0xc2a39291acf6ae4ed29c6fcc15f1d54141f8d833  0\n",
       "150  0x9d2e7bdb754a2a8ee10038933b5a885e6aaf2c73  0\n",
       "28   0x874b87125cf394cd17398f45ee0dbc31fceda791  0\n",
       "69   0x8f0172b948b0d6700f35ab27a22906fa2e672071  0\n",
       "0    0x6617dea94202ab8fa8aae019b45c9881e30365ea  0\n",
       "\n",
       "[554 rows x 2 columns]"
      ]
     },
     "execution_count": 194,
     "metadata": {},
     "output_type": "execute_result"
    }
   ],
   "source": [
    "#G.out_degree(weight='points')\n",
    "\n",
    "pd.DataFrame(G.in_degree()).sort_values(1,ascending=False)"
   ]
  }
 ],
 "metadata": {
  "interpreter": {
   "hash": "25ee92a31d68368ca42246886434fcbb9e7213bd1bda7fd865dcfe6c3fbc7f9f"
  },
  "kernelspec": {
   "display_name": "Python 3.9.2",
   "language": "python",
   "name": "python3"
  },
  "language_info": {
   "codemirror_mode": {
    "name": "ipython",
    "version": 3
   },
   "file_extension": ".py",
   "mimetype": "text/x-python",
   "name": "python",
   "nbconvert_exporter": "python",
   "pygments_lexer": "ipython3",
   "version": "3.9.2"
  },
  "orig_nbformat": 4
 },
 "nbformat": 4,
 "nbformat_minor": 2
}
