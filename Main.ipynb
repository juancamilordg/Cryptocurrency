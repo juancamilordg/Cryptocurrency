{
 "cells": [
  {
   "cell_type": "markdown",
   "metadata": {},
   "source": [
    "# Dissertation Project: Cryptocurrency Analytics"
   ]
  },
  {
   "cell_type": "markdown",
   "metadata": {},
   "source": [
    "## Import Libraries"
   ]
  },
  {
   "cell_type": "code",
   "execution_count": 2,
   "metadata": {},
   "outputs": [],
   "source": [
    "# Import Libraries\n",
    "from google.cloud import bigquery\n",
    "import pandas as pd\n",
    "import matplotlib.pyplot as plt\n",
    "import seaborn as sns\n",
    "import os\n",
    "from google.cloud import bigquery"
   ]
  },
  {
   "cell_type": "markdown",
   "metadata": {},
   "source": [
    "## Connect to Google Big Query API"
   ]
  },
  {
   "cell_type": "code",
   "execution_count": null,
   "metadata": {},
   "outputs": [],
   "source": [
    "# Define Google Cloud Credential\n",
    "os.environ[\"GOOGLE_APPLICATION_CREDENTIALS\"]=\"C:/Users/JCRG/Desktop/Master/Dissertation/Code/Google Cloud/dissertation-352916-492433041777.json\"\n",
    "# Call Big Query API\n",
    "bqclient = bigquery.Client()"
   ]
  },
  {
   "cell_type": "markdown",
   "metadata": {},
   "source": [
    "Queries can be run directly from the notebook; however, considering the computational power required for running some queries, they are run in BigQuery and saved in the folder"
   ]
  },
  {
   "cell_type": "code",
   "execution_count": null,
   "metadata": {},
   "outputs": [],
   "source": [
    "# Code to Execute Queries from notebook\n",
    "query_string = \"\"\"\n",
    "\n",
    "\"\"\"\n",
    "\n",
    "df_wallets_high_balance = (\n",
    "    bqclient.query(query_string)\n",
    "    .result()\n",
    "    .to_dataframe(\n",
    "        create_bqstorage_client=True,\n",
    "    )\n",
    ")\n",
    "print(df_wallets_high_balance.head())"
   ]
  },
  {
   "cell_type": "markdown",
   "metadata": {},
   "source": [
    "## Highest Positive Variation in Wallets"
   ]
  },
  {
   "cell_type": "markdown",
   "metadata": {},
   "source": [
    "The comparison is performed since 2019-01-01 to 2020-06-19"
   ]
  },
  {
   "cell_type": "markdown",
   "metadata": {},
   "source": [
    "### Compare base on Account Balance"
   ]
  },
  {
   "cell_type": "code",
   "execution_count": 30,
   "metadata": {},
   "outputs": [],
   "source": [
    "# Load data from balances\n",
    "balances_20190101=pd.read_csv('Balances_20190101.csv')\n",
    "balances_20220601=pd.read_csv('Balances_20220619.csv')"
   ]
  },
  {
   "cell_type": "code",
   "execution_count": 29,
   "metadata": {},
   "outputs": [
    {
     "data": {
      "text/html": [
       "<div>\n",
       "<style scoped>\n",
       "    .dataframe tbody tr th:only-of-type {\n",
       "        vertical-align: middle;\n",
       "    }\n",
       "\n",
       "    .dataframe tbody tr th {\n",
       "        vertical-align: top;\n",
       "    }\n",
       "\n",
       "    .dataframe thead th {\n",
       "        text-align: right;\n",
       "    }\n",
       "</style>\n",
       "<table border=\"1\" class=\"dataframe\">\n",
       "  <thead>\n",
       "    <tr style=\"text-align: right;\">\n",
       "      <th></th>\n",
       "      <th>address</th>\n",
       "      <th>balance_x</th>\n",
       "      <th>balance_y</th>\n",
       "      <th>percentual_Diff</th>\n",
       "    </tr>\n",
       "  </thead>\n",
       "  <tbody>\n",
       "    <tr>\n",
       "      <th>62</th>\n",
       "      <td>0x999e77c988c4c1451d3b1c104a6cca7813a9946e</td>\n",
       "      <td>99272</td>\n",
       "      <td>50</td>\n",
       "      <td>198444.000000</td>\n",
       "    </tr>\n",
       "    <tr>\n",
       "      <th>120</th>\n",
       "      <td>0x0a98fb70939162725ae66e626fe4b52cff62c2e5</td>\n",
       "      <td>37359</td>\n",
       "      <td>76</td>\n",
       "      <td>49056.578947</td>\n",
       "    </tr>\n",
       "    <tr>\n",
       "      <th>167</th>\n",
       "      <td>0x8f6438f028b0fba4dcea654bcd7f46e868f0129e</td>\n",
       "      <td>20767</td>\n",
       "      <td>51</td>\n",
       "      <td>40619.607843</td>\n",
       "    </tr>\n",
       "    <tr>\n",
       "      <th>106</th>\n",
       "      <td>0x58c2cb4a6bee98c309215d0d2a38d7f8aa71211c</td>\n",
       "      <td>43826</td>\n",
       "      <td>140</td>\n",
       "      <td>31204.285714</td>\n",
       "    </tr>\n",
       "    <tr>\n",
       "      <th>236</th>\n",
       "      <td>0x8f0172b948b0d6700f35ab27a22906fa2e672071</td>\n",
       "      <td>14654</td>\n",
       "      <td>101</td>\n",
       "      <td>14408.910891</td>\n",
       "    </tr>\n",
       "    <tr>\n",
       "      <th>...</th>\n",
       "      <td>...</td>\n",
       "      <td>...</td>\n",
       "      <td>...</td>\n",
       "      <td>...</td>\n",
       "    </tr>\n",
       "    <tr>\n",
       "      <th>13539</th>\n",
       "      <td>0x2f96212bbad1120c56cefedec2826dc771547c09</td>\n",
       "      <td>101</td>\n",
       "      <td>20000</td>\n",
       "      <td>-99.495000</td>\n",
       "    </tr>\n",
       "    <tr>\n",
       "      <th>13656</th>\n",
       "      <td>0xa25d0c39b18c3cef4ffc33b27e91e83e36285b02</td>\n",
       "      <td>101</td>\n",
       "      <td>20001</td>\n",
       "      <td>-99.495025</td>\n",
       "    </tr>\n",
       "    <tr>\n",
       "      <th>8564</th>\n",
       "      <td>0xcabbc50e1d97490a07cc0d1048c7639f1b11f4fd</td>\n",
       "      <td>194</td>\n",
       "      <td>41180</td>\n",
       "      <td>-99.528898</td>\n",
       "    </tr>\n",
       "    <tr>\n",
       "      <th>4997</th>\n",
       "      <td>0x32be343b94f860124dc4fee278fdcbd38c102d88</td>\n",
       "      <td>395</td>\n",
       "      <td>114384</td>\n",
       "      <td>-99.654672</td>\n",
       "    </tr>\n",
       "    <tr>\n",
       "      <th>2912</th>\n",
       "      <td>0x51f9c432a4e59ac86282d6adab4c2eb8919160eb</td>\n",
       "      <td>832</td>\n",
       "      <td>530000</td>\n",
       "      <td>-99.843019</td>\n",
       "    </tr>\n",
       "  </tbody>\n",
       "</table>\n",
       "<p>13869 rows × 4 columns</p>\n",
       "</div>"
      ],
      "text/plain": [
       "                                          address  balance_x  balance_y  \\\n",
       "62     0x999e77c988c4c1451d3b1c104a6cca7813a9946e      99272         50   \n",
       "120    0x0a98fb70939162725ae66e626fe4b52cff62c2e5      37359         76   \n",
       "167    0x8f6438f028b0fba4dcea654bcd7f46e868f0129e      20767         51   \n",
       "106    0x58c2cb4a6bee98c309215d0d2a38d7f8aa71211c      43826        140   \n",
       "236    0x8f0172b948b0d6700f35ab27a22906fa2e672071      14654        101   \n",
       "...                                           ...        ...        ...   \n",
       "13539  0x2f96212bbad1120c56cefedec2826dc771547c09        101      20000   \n",
       "13656  0xa25d0c39b18c3cef4ffc33b27e91e83e36285b02        101      20001   \n",
       "8564   0xcabbc50e1d97490a07cc0d1048c7639f1b11f4fd        194      41180   \n",
       "4997   0x32be343b94f860124dc4fee278fdcbd38c102d88        395     114384   \n",
       "2912   0x51f9c432a4e59ac86282d6adab4c2eb8919160eb        832     530000   \n",
       "\n",
       "       percentual_Diff  \n",
       "62       198444.000000  \n",
       "120       49056.578947  \n",
       "167       40619.607843  \n",
       "106       31204.285714  \n",
       "236       14408.910891  \n",
       "...                ...  \n",
       "13539       -99.495000  \n",
       "13656       -99.495025  \n",
       "8564        -99.528898  \n",
       "4997        -99.654672  \n",
       "2912        -99.843019  \n",
       "\n",
       "[13869 rows x 4 columns]"
      ]
     },
     "execution_count": 29,
     "metadata": {},
     "output_type": "execute_result"
    }
   ],
   "source": [
    "# Merge data\n",
    "balances_join=balances_20220601.merge(balances_20190101,on='address')\n",
    "# Calculate percentual difference\n",
    "balances_join['percentual_Diff']=(balances_join['balance_x']-balances_join['balance_y'])/balances_join['balance_y']*100\n",
    "# Organize and print data\n",
    "balances_join[balances_join['balance_x']>100].sort_values('percentual_Diff',ascending=False)"
   ]
  }
 ],
 "metadata": {
  "interpreter": {
   "hash": "25ee92a31d68368ca42246886434fcbb9e7213bd1bda7fd865dcfe6c3fbc7f9f"
  },
  "kernelspec": {
   "display_name": "Python 3.9.2",
   "language": "python",
   "name": "python3"
  },
  "language_info": {
   "codemirror_mode": {
    "name": "ipython",
    "version": 3
   },
   "file_extension": ".py",
   "mimetype": "text/x-python",
   "name": "python",
   "nbconvert_exporter": "python",
   "pygments_lexer": "ipython3",
   "version": "3.9.2"
  },
  "orig_nbformat": 4
 },
 "nbformat": 4,
 "nbformat_minor": 2
}
